{
 "cells": [
  {
   "cell_type": "markdown",
   "metadata": {},
   "source": [
    "# Generating MNIST digits using simple GAN"
   ]
  },
  {
   "cell_type": "markdown",
   "metadata": {},
   "source": [
    "In this tutorial, we see how new images are generated from random noise.\n",
    "A simple GAN architecture is trained on MNIST and can create new images."
   ]
  },
  {
   "cell_type": "markdown",
   "metadata": {},
   "source": [
    "Below we import the necessary libraries and load the data"
   ]
  },
  {
   "cell_type": "code",
   "execution_count": 1,
   "metadata": {},
   "outputs": [
    {
     "name": "stderr",
     "output_type": "stream",
     "text": [
      "Using TensorFlow backend.\n"
     ]
    }
   ],
   "source": [
    "import numpy as np\n",
    "import keras\n",
    "import keras.backend as K\n",
    "from keras.layers import Input, Dense, Activation, LeakyReLU, BatchNormalization\n",
    "from keras.models import Sequential\n",
    "from keras.optimizers import Adam\n",
    "from sklearn.model_selection import train_test_split\n",
    "import matplotlib.pyplot as plt\n",
    "%matplotlib inline"
   ]
  },
  {
   "cell_type": "code",
   "execution_count": 2,
   "metadata": {},
   "outputs": [],
   "source": [
    "(X_train, y_train), (X_test, y_test) = keras.datasets.mnist.load_data()"
   ]
  },
  {
   "cell_type": "markdown",
   "metadata": {},
   "source": [
    "We plot some of the images. These images are grayscale of size 28 * 28.\n",
    "As there is only one channel, the intensities vary from 0 to 255."
   ]
  },
  {
   "cell_type": "code",
   "execution_count": 3,
   "metadata": {},
   "outputs": [
    {
     "data": {
      "image/png": "[encoded data removed]",
      "text/plain": [
       "<Figure size 360x288 with 20 Axes>"
      ]
     },
     "metadata": {},
     "output_type": "display_data"
    }
   ],
   "source": [
    "plt.figure(figsize=(5, 4))\n",
    "for i in range(20):\n",
    "    plt.subplot(4, 5, i+1)\n",
    "    plt.imshow(X_train[i], cmap='gray')\n",
    "    plt.xticks([])\n",
    "    plt.yticks([])\n",
    "plt.tight_layout()\n",
    "plt.show()"
   ]
  },
  {
   "cell_type": "code",
   "execution_count": 4,
   "metadata": {},
   "outputs": [
    {
     "data": {
      "text/plain": [
       "(0, 255)"
      ]
     },
     "execution_count": 4,
     "metadata": {},
     "output_type": "execute_result"
    }
   ],
   "source": [
    "X_train.min(), X_train.max()"
   ]
  },
  {
   "cell_type": "markdown",
   "metadata": {},
   "source": [
    "A generator takes in random noise and creates hand-written images.\n",
    "We create noise data as normal distribution of randomly generated numbers"
   ]
  },
  {
   "cell_type": "code",
   "execution_count": 5,
   "metadata": {},
   "outputs": [
    {
     "data": {
      "text/plain": [
       "array([[-5.52195974e-01, -1.94637975e+00,  7.00926689e-01,\n",
       "        -1.05067249e+00, -9.62951355e-01, -3.99003303e-01,\n",
       "         1.95430742e+00, -2.50745347e+00,  1.33650345e+00,\n",
       "        -4.09556418e-01, -2.02448626e-03, -5.66106318e-01,\n",
       "        -8.71069155e-02, -5.65423537e-01, -1.34899896e+00,\n",
       "         1.11624859e+00, -1.52660733e+00,  1.50362635e+00,\n",
       "         1.51405836e+00, -2.67189687e-01,  2.13088522e-01,\n",
       "         5.56222371e-01,  1.41558894e+00, -6.17830742e-01,\n",
       "        -7.38190736e-01,  6.51714396e-01,  1.38911003e-01,\n",
       "         2.82186022e-02,  5.61078366e-01,  7.24417586e-01,\n",
       "         2.22203674e+00, -3.09961975e-01, -8.82415386e-01,\n",
       "         1.21067590e+00, -1.27599707e+00,  8.34432428e-01,\n",
       "         1.40202808e+00,  1.37405085e+00,  2.08335616e+00,\n",
       "        -4.30139964e-01, -3.85553026e-01, -9.31617772e-01,\n",
       "         4.49226406e-01,  1.16397183e+00, -1.12539390e+00,\n",
       "         4.46797856e-01, -1.00763170e+00, -2.57292060e-01,\n",
       "        -1.19109137e+00, -1.57753745e+00,  5.80992904e-01,\n",
       "         1.02053515e+00,  3.00378084e-01,  1.48952207e+00,\n",
       "        -1.00685920e-01, -2.01239803e+00,  4.84459774e-01,\n",
       "        -3.67371775e-01, -4.98740117e-01, -2.26966150e-01,\n",
       "         2.58471169e+00,  7.31424807e-01,  1.35780673e+00,\n",
       "         3.50952154e-01,  1.39853946e+00,  5.89850272e-01,\n",
       "         7.95213119e-01, -6.54751872e-01, -5.40603757e-01,\n",
       "         1.48775123e+00, -1.01310968e+00,  5.02386888e-01,\n",
       "         6.07818762e-02, -4.73667968e-01,  2.28335361e+00,\n",
       "        -9.74969006e-01,  1.32652945e+00, -1.99624284e-01,\n",
       "        -2.51645342e-01, -1.79693576e+00,  8.56024211e-01,\n",
       "        -5.22239033e-01, -8.33993920e-02, -1.85002688e+00,\n",
       "        -5.36526629e-01, -5.36466819e-01,  1.31706347e+00,\n",
       "        -1.04614771e+00,  9.87401129e-01, -9.18106265e-01,\n",
       "        -1.15810872e+00, -6.70017143e-01, -3.09259809e-01,\n",
       "         3.19626944e+00,  4.71083982e-01, -4.13751954e-01,\n",
       "         3.82184779e-01, -6.45018799e-01,  9.03207759e-01,\n",
       "         1.14610683e+00]])"
      ]
     },
     "execution_count": 5,
     "metadata": {},
     "output_type": "execute_result"
    }
   ],
   "source": [
    "def make_latent_samples(n_samples, sample_size):\n",
    "    return np.random.normal(loc=0, scale=1, size=(n_samples, sample_size))\n",
    "\n",
    "# generates one sample\n",
    "make_latent_samples(1, 100)"
   ]
  },
  {
   "cell_type": "markdown",
   "metadata": {},
   "source": [
    "Discriminator network is trained before hand and then made non-trainable.\n",
    "Discriminator needs to be made non-trainable so that the weights in adverserial part are freezed and the generative network of GAN is able to bring noisy data more closer to fool the discriminator."
   ]
  },
  {
   "cell_type": "code",
   "execution_count": 6,
   "metadata": {},
   "outputs": [],
   "source": [
    "def  make_trainable(model, trainable):\n",
    "    for layer in model.layers:\n",
    "        layer.trainable = trainable"
   ]
  },
  {
   "cell_type": "markdown",
   "metadata": {},
   "source": [
    "GAN is a generator and discriminator stacked together.\n",
    "1. Genertaor network here will be a simple one, which takes in a latent space and should give a digit.\n",
    "*tanh* activation gives better result, so it will be used here. Due to this another step of pre and post image processing is introduced.\n",
    "2. A discriminator's job is to identify whether or not the input digit provided is real or fake.\n",
    "Here, it takes in input digit and classifies it into 1 or 0 (real or fake)."
   ]
  },
  {
   "cell_type": "code",
   "execution_count": 7,
   "metadata": {},
   "outputs": [],
   "source": [
    "def make_simple_GAN(sample_size, \n",
    "                    g_hidden_size, \n",
    "                    d_hidden_size, \n",
    "                    leaky_alpha, \n",
    "                    g_learning_rate,\n",
    "                    d_learning_rate):\n",
    "    K.clear_session()\n",
    "    \n",
    "    generator = Sequential([\n",
    "        Dense(g_hidden_size, input_shape=(sample_size,)),\n",
    "        LeakyReLU(alpha=leaky_alpha),\n",
    "        Dense(784),        \n",
    "        Activation('tanh')\n",
    "    ], name='generator')    \n",
    "\n",
    "    discriminator = Sequential([\n",
    "        Dense(d_hidden_size, input_shape=(784,)),\n",
    "        LeakyReLU(alpha=leaky_alpha),\n",
    "        Dense(1),\n",
    "        Activation('sigmoid')\n",
    "    ], name='discriminator')    \n",
    "    \n",
    "    gan = Sequential([\n",
    "        generator,\n",
    "        discriminator\n",
    "    ])\n",
    "    \n",
    "    discriminator.compile(optimizer=Adam(lr=d_learning_rate), loss='binary_crossentropy')\n",
    "    gan.compile(optimizer=Adam(lr=g_learning_rate), loss='binary_crossentropy')\n",
    "    \n",
    "    return gan, generator, discriminator"
   ]
  },
  {
   "cell_type": "code",
   "execution_count": 8,
   "metadata": {},
   "outputs": [],
   "source": [
    "def preprocess(x):    \n",
    "    x = x.reshape(-1, 784) # 784=28*28\n",
    "    x = np.float64(x)\n",
    "    x = (x / 255 - 0.5) * 2\n",
    "    x = np.clip(x, -1, 1)\n",
    "    return x\n",
    "\n",
    "def deprocess(x):\n",
    "    x = (x / 2 + 1) * 255\n",
    "    x = np.clip(x, 0, 255)\n",
    "    x = np.uint8(x)\n",
    "    x = x.reshape(28, 28)\n",
    "    return x\n",
    "\n",
    "X_train_real = preprocess(X_train)\n",
    "X_test_real  = preprocess(X_test)"
   ]
  },
  {
   "cell_type": "code",
   "execution_count": 9,
   "metadata": {},
   "outputs": [],
   "source": [
    "def make_labels(size):\n",
    "    return np.ones([size, 1]), np.zeros([size, 1])\n",
    "\n",
    "y_real_10, y_fake_10 = make_labels(10)"
   ]
  },
  {
   "cell_type": "markdown",
   "metadata": {},
   "source": [
    "To train the gain, below are the steps followed:\n",
    "- a batch of real images\n",
    "- a batch of fake images generated by the generator using latent samples\n",
    "- Make the discriminator trainable and train the discriminator to classify the real and fake images\n",
    "- Make the discriminator non-trainable and train the generator"
   ]
  },
  {
   "cell_type": "code",
   "execution_count": 10,
   "metadata": {},
   "outputs": [
    {
     "name": "stderr",
     "output_type": "stream",
     "text": [
      "c:\\garage\\venv\\lib\\site-packages\\keras\\engine\\training.py:479: UserWarning: Discrepancy between trainable weights and collected trainable weights, did you set `model.trainable` without calling `model.compile` after ?\n",
      "  'Discrepancy between trainable weights and collected trainable'\n"
     ]
    },
    {
     "name": "stdout",
     "output_type": "stream",
     "text": [
      "Epoch:   1/100 Discriminator Loss: 0.2556 Generator Loss: 3.5080\n",
      "Epoch:   2/100 Discriminator Loss: 0.6709 Generator Loss: 4.3466\n",
      "Epoch:   3/100 Discriminator Loss: 0.2685 Generator Loss: 1.8762\n",
      "Epoch:   4/100 Discriminator Loss: 0.3945 Generator Loss: 2.7340\n",
      "Epoch:   5/100 Discriminator Loss: 0.3438 Generator Loss: 8.2208\n",
      "Epoch:   6/100 Discriminator Loss: 0.2745 Generator Loss: 2.3266\n",
      "Epoch:   7/100 Discriminator Loss: 0.2139 Generator Loss: 2.1670\n",
      "Epoch:   8/100 Discriminator Loss: 0.3235 Generator Loss: 3.2472\n",
      "Epoch:   9/100 Discriminator Loss: 0.3445 Generator Loss: 3.8243\n",
      "Epoch:  10/100 Discriminator Loss: 1.0274 Generator Loss: 0.6727\n",
      "Epoch:  11/100 Discriminator Loss: 0.2375 Generator Loss: 3.9818\n",
      "Epoch:  12/100 Discriminator Loss: 0.3398 Generator Loss: 2.6713\n",
      "Epoch:  13/100 Discriminator Loss: 0.3442 Generator Loss: 2.9125\n",
      "Epoch:  14/100 Discriminator Loss: 0.2438 Generator Loss: 2.1083\n",
      "Epoch:  15/100 Discriminator Loss: 0.2889 Generator Loss: 2.3958\n",
      "Epoch:  16/100 Discriminator Loss: 0.1807 Generator Loss: 2.7516\n",
      "Epoch:  17/100 Discriminator Loss: 0.3702 Generator Loss: 2.0416\n",
      "Epoch:  18/100 Discriminator Loss: 0.4583 Generator Loss: 3.7984\n",
      "Epoch:  19/100 Discriminator Loss: 0.4785 Generator Loss: 2.5173\n",
      "Epoch:  20/100 Discriminator Loss: 0.3939 Generator Loss: 3.2880\n",
      "Epoch:  21/100 Discriminator Loss: 0.2761 Generator Loss: 3.3968\n",
      "Epoch:  22/100 Discriminator Loss: 0.3169 Generator Loss: 3.0308\n",
      "Epoch:  23/100 Discriminator Loss: 0.2893 Generator Loss: 2.4415\n",
      "Epoch:  24/100 Discriminator Loss: 0.5336 Generator Loss: 2.0241\n",
      "Epoch:  25/100 Discriminator Loss: 0.2729 Generator Loss: 2.6112\n",
      "Epoch:  26/100 Discriminator Loss: 0.6850 Generator Loss: 2.5588\n",
      "Epoch:  27/100 Discriminator Loss: 0.3960 Generator Loss: 1.8454\n",
      "Epoch:  28/100 Discriminator Loss: 0.3454 Generator Loss: 2.2719\n",
      "Epoch:  29/100 Discriminator Loss: 0.4601 Generator Loss: 2.8018\n",
      "Epoch:  30/100 Discriminator Loss: 0.5165 Generator Loss: 3.9283\n",
      "Epoch:  31/100 Discriminator Loss: 0.3948 Generator Loss: 3.0531\n",
      "Epoch:  32/100 Discriminator Loss: 0.4631 Generator Loss: 2.5341\n",
      "Epoch:  33/100 Discriminator Loss: 0.4936 Generator Loss: 4.4771\n",
      "Epoch:  34/100 Discriminator Loss: 0.2889 Generator Loss: 2.8585\n",
      "Epoch:  35/100 Discriminator Loss: 0.6062 Generator Loss: 3.9402\n",
      "Epoch:  36/100 Discriminator Loss: 0.3788 Generator Loss: 3.8591\n",
      "Epoch:  37/100 Discriminator Loss: 0.9318 Generator Loss: 3.3867\n",
      "Epoch:  38/100 Discriminator Loss: 0.4733 Generator Loss: 4.0118\n",
      "Epoch:  39/100 Discriminator Loss: 0.3794 Generator Loss: 3.0588\n",
      "Epoch:  40/100 Discriminator Loss: 0.5124 Generator Loss: 4.0004\n",
      "Epoch:  41/100 Discriminator Loss: 0.3848 Generator Loss: 3.7555\n",
      "Epoch:  42/100 Discriminator Loss: 0.3752 Generator Loss: 2.9345\n",
      "Epoch:  43/100 Discriminator Loss: 0.5122 Generator Loss: 3.8501\n",
      "Epoch:  44/100 Discriminator Loss: 0.2777 Generator Loss: 3.5746\n",
      "Epoch:  45/100 Discriminator Loss: 0.3706 Generator Loss: 3.1735\n",
      "Epoch:  46/100 Discriminator Loss: 0.5872 Generator Loss: 2.9543\n",
      "Epoch:  47/100 Discriminator Loss: 0.3565 Generator Loss: 3.2225\n",
      "Epoch:  48/100 Discriminator Loss: 0.3955 Generator Loss: 2.9395\n",
      "Epoch:  49/100 Discriminator Loss: 0.6692 Generator Loss: 2.7227\n",
      "Epoch:  50/100 Discriminator Loss: 0.8105 Generator Loss: 2.8340\n",
      "Epoch:  51/100 Discriminator Loss: 0.6944 Generator Loss: 4.5942\n",
      "Epoch:  52/100 Discriminator Loss: 0.6764 Generator Loss: 2.8127\n",
      "Epoch:  53/100 Discriminator Loss: 0.7406 Generator Loss: 2.8349\n",
      "Epoch:  54/100 Discriminator Loss: 0.6368 Generator Loss: 2.3281\n",
      "Epoch:  55/100 Discriminator Loss: 0.3063 Generator Loss: 3.2188\n",
      "Epoch:  56/100 Discriminator Loss: 0.6871 Generator Loss: 3.2236\n",
      "Epoch:  57/100 Discriminator Loss: 0.6029 Generator Loss: 3.1950\n",
      "Epoch:  58/100 Discriminator Loss: 0.8048 Generator Loss: 3.2756\n",
      "Epoch:  59/100 Discriminator Loss: 0.7445 Generator Loss: 2.4771\n",
      "Epoch:  60/100 Discriminator Loss: 0.4437 Generator Loss: 2.8103\n",
      "Epoch:  61/100 Discriminator Loss: 0.4784 Generator Loss: 1.9538\n",
      "Epoch:  62/100 Discriminator Loss: 0.9225 Generator Loss: 2.6506\n",
      "Epoch:  63/100 Discriminator Loss: 0.6911 Generator Loss: 2.9202\n",
      "Epoch:  64/100 Discriminator Loss: 0.6855 Generator Loss: 1.8696\n",
      "Epoch:  65/100 Discriminator Loss: 0.8458 Generator Loss: 3.1444\n",
      "Epoch:  66/100 Discriminator Loss: 0.5319 Generator Loss: 2.3502\n",
      "Epoch:  67/100 Discriminator Loss: 0.4744 Generator Loss: 2.2020\n",
      "Epoch:  68/100 Discriminator Loss: 0.6526 Generator Loss: 2.0129\n",
      "Epoch:  69/100 Discriminator Loss: 0.6726 Generator Loss: 2.3289\n",
      "Epoch:  70/100 Discriminator Loss: 0.4291 Generator Loss: 3.5382\n",
      "Epoch:  71/100 Discriminator Loss: 0.3239 Generator Loss: 3.2208\n",
      "Epoch:  72/100 Discriminator Loss: 0.7191 Generator Loss: 2.9016\n",
      "Epoch:  73/100 Discriminator Loss: 0.5259 Generator Loss: 3.2677\n",
      "Epoch:  74/100 Discriminator Loss: 0.8711 Generator Loss: 2.4022\n",
      "Epoch:  75/100 Discriminator Loss: 0.8206 Generator Loss: 2.6938\n",
      "Epoch:  76/100 Discriminator Loss: 0.6474 Generator Loss: 3.0603\n",
      "Epoch:  77/100 Discriminator Loss: 0.5593 Generator Loss: 3.6264\n",
      "Epoch:  78/100 Discriminator Loss: 0.7157 Generator Loss: 3.2623\n",
      "Epoch:  79/100 Discriminator Loss: 0.7946 Generator Loss: 2.9583\n",
      "Epoch:  80/100 Discriminator Loss: 0.9109 Generator Loss: 3.3429\n",
      "Epoch:  81/100 Discriminator Loss: 0.8984 Generator Loss: 2.8713\n",
      "Epoch:  82/100 Discriminator Loss: 0.5649 Generator Loss: 2.5766\n",
      "Epoch:  83/100 Discriminator Loss: 0.9675 Generator Loss: 2.1468\n",
      "Epoch:  84/100 Discriminator Loss: 0.4601 Generator Loss: 3.1564\n",
      "Epoch:  85/100 Discriminator Loss: 0.6173 Generator Loss: 3.3486\n",
      "Epoch:  86/100 Discriminator Loss: 0.8072 Generator Loss: 2.8476\n",
      "Epoch:  87/100 Discriminator Loss: 0.9837 Generator Loss: 2.7834\n",
      "Epoch:  88/100 Discriminator Loss: 0.9846 Generator Loss: 3.1196\n",
      "Epoch:  89/100 Discriminator Loss: 0.8316 Generator Loss: 2.4799\n",
      "Epoch:  90/100 Discriminator Loss: 0.8749 Generator Loss: 3.3436\n",
      "Epoch:  91/100 Discriminator Loss: 0.5725 Generator Loss: 2.7228\n",
      "Epoch:  92/100 Discriminator Loss: 0.6930 Generator Loss: 2.4084\n",
      "Epoch:  93/100 Discriminator Loss: 1.0807 Generator Loss: 2.1246\n",
      "Epoch:  94/100 Discriminator Loss: 0.6837 Generator Loss: 2.8954\n",
      "Epoch:  95/100 Discriminator Loss: 0.9995 Generator Loss: 2.8418\n",
      "Epoch:  96/100 Discriminator Loss: 1.0325 Generator Loss: 3.0126\n",
      "Epoch:  97/100 Discriminator Loss: 1.0355 Generator Loss: 2.7097\n",
      "Epoch:  98/100 Discriminator Loss: 1.0010 Generator Loss: 3.5166\n",
      "Epoch:  99/100 Discriminator Loss: 1.1240 Generator Loss: 2.6156\n",
      "Epoch: 100/100 Discriminator Loss: 1.0220 Generator Loss: 2.5680\n"
     ]
    }
   ],
   "source": [
    "# hyperparameters\n",
    "sample_size     = 100     # latent sample size (i.e., 100 random numbers)\n",
    "g_hidden_size   = 128\n",
    "d_hidden_size   = 128\n",
    "leaky_alpha     = 0.01\n",
    "g_learning_rate = 0.0001  # learning rate for the generator\n",
    "d_learning_rate = 0.001   # learning rate for the discriminator\n",
    "epochs          = 100\n",
    "batch_size      = 64      # train batch size\n",
    "eval_size       = 16      # evaluate size\n",
    "smooth          = 0.1\n",
    "\n",
    "# labels for the batch size and the test size\n",
    "y_train_real, y_train_fake = make_labels(batch_size)\n",
    "y_eval_real,  y_eval_fake  = make_labels(eval_size)\n",
    "\n",
    "# create a GAN, a generator and a discriminator\n",
    "gan, generator, discriminator = make_simple_GAN(\n",
    "    sample_size, \n",
    "    g_hidden_size, \n",
    "    d_hidden_size, \n",
    "    leaky_alpha, \n",
    "    g_learning_rate,\n",
    "    d_learning_rate)\n",
    "\n",
    "losses = []\n",
    "for e in range(epochs):\n",
    "    for i in range(len(X_train_real)//batch_size):\n",
    "        # real MNIST digit images\n",
    "        X_batch_real = X_train_real[i*batch_size:(i+1)*batch_size]\n",
    "        \n",
    "        # latent samples and the generated digit images\n",
    "        latent_samples = make_latent_samples(batch_size, sample_size)\n",
    "        X_batch_fake = generator.predict_on_batch(latent_samples)\n",
    "        \n",
    "        # train the discriminator to detect real and fake images\n",
    "        make_trainable(discriminator, True)\n",
    "        discriminator.train_on_batch(X_batch_real, y_train_real * (1 - smooth))\n",
    "        discriminator.train_on_batch(X_batch_fake, y_train_fake)\n",
    "\n",
    "        # train the generator via GAN\n",
    "        make_trainable(discriminator, False)\n",
    "        gan.train_on_batch(latent_samples, y_train_real)\n",
    "    \n",
    "    # evaluate\n",
    "    X_eval_real = X_test_real[np.random.choice(len(X_test_real), eval_size, replace=False)]\n",
    "    \n",
    "    latent_samples = make_latent_samples(eval_size, sample_size)\n",
    "    X_eval_fake = generator.predict_on_batch(latent_samples)\n",
    "\n",
    "    d_loss  = discriminator.test_on_batch(X_eval_real, y_eval_real)\n",
    "    d_loss += discriminator.test_on_batch(X_eval_fake, y_eval_fake)\n",
    "    g_loss  = gan.test_on_batch(latent_samples, y_eval_real) # we want the fake to be realistic!\n",
    "    \n",
    "    losses.append((d_loss, g_loss))\n",
    "    \n",
    "    print(\"Epoch: {:>3}/{} Discriminator Loss: {:>6.4f} Generator Loss: {:>6.4f}\".format(\n",
    "        e+1, epochs, d_loss, g_loss))"
   ]
  },
  {
   "cell_type": "code",
   "execution_count": 11,
   "metadata": {},
   "outputs": [
    {
     "data": {
      "image/png": "[encoded data removed]",
      "text/plain": [
       "<Figure size 432x288 with 1 Axes>"
      ]
     },
     "metadata": {},
     "output_type": "display_data"
    }
   ],
   "source": [
    "losses = np.array(losses)\n",
    "\n",
    "fig, ax = plt.subplots()\n",
    "plt.plot(losses.T[0], label='Discriminator')\n",
    "plt.plot(losses.T[1], label='Generator')\n",
    "plt.title(\"Training Losses\")\n",
    "plt.legend()\n",
    "plt.show()"
   ]
  },
  {
   "cell_type": "markdown",
   "metadata": {},
   "source": [
    "Below are the results; digits generated from the generator"
   ]
  },
  {
   "cell_type": "code",
   "execution_count": 14,
   "metadata": {},
   "outputs": [
    {
     "data": {
      "image/png": "[encoded data removed]",
      "text/plain": [
       "<Figure size 720x576 with 20 Axes>"
      ]
     },
     "metadata": {},
     "output_type": "display_data"
    }
   ],
   "source": [
    "latent_samples = make_latent_samples(20, sample_size)\n",
    "generated_digits = generator.predict(latent_samples)\n",
    "\n",
    "plt.figure(figsize=(10, 8))\n",
    "for i in range(20):\n",
    "    img = deprocess(generated_digits[i])\n",
    "    plt.subplot(4, 5, i+1)\n",
    "    plt.imshow(img, cmap='gray')\n",
    "    plt.xticks([])\n",
    "    plt.yticks([])\n",
    "plt.tight_layout()\n",
    "plt.show()"
   ]
  },
  {
   "cell_type": "markdown",
   "metadata": {},
   "source": [
    "I also recommend to check Deep Convolution GAN aka DCGAN for improved results."
   ]
  }
 ],
 "metadata": {
  "kernelspec": {
   "display_name": "Python 3",
   "language": "python",
   "name": "python3"
  },
  "language_info": {
   "codemirror_mode": {
    "name": "ipython",
    "version": 3
   },
   "file_extension": ".py",
   "mimetype": "text/x-python",
   "name": "python",
   "nbconvert_exporter": "python",
   "pygments_lexer": "ipython3",
   "version": "3.6.6"
  }
 },
 "nbformat": 4,
 "nbformat_minor": 2
}
